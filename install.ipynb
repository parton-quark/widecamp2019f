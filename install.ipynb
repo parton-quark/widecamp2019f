{
 "cells": [
  {
   "cell_type": "code",
   "execution_count": 3,
   "metadata": {},
   "outputs": [
    {
     "name": "stdout",
     "output_type": "stream",
     "text": [
      "Collecting pip\n",
      "\u001b[?25l  Downloading https://files.pythonhosted.org/packages/30/db/9e38760b32e3e7f40cce46dd5fb107b8c73840df38f0046d8e6514e675a1/pip-19.2.3-py2.py3-none-any.whl (1.4MB)\n",
      "\u001b[K    100% |████████████████████████████████| 1.4MB 9.9MB/s \n",
      "\u001b[?25hInstalling collected packages: pip\n",
      "  Found existing installation: pip 18.1\n",
      "    Uninstalling pip-18.1:\n",
      "      Successfully uninstalled pip-18.1\n",
      "Successfully installed pip-19.2.3\n"
     ]
    }
   ],
   "source": [
    "!pip install --upgrade pip"
   ]
  },
  {
   "cell_type": "code",
   "execution_count": 5,
   "metadata": {},
   "outputs": [
    {
     "name": "stdout",
     "output_type": "stream",
     "text": [
      "Requirement already up-to-date: qiskit in /Users/parton/anaconda3/lib/python3.7/site-packages (0.12.0)\n",
      "Requirement already satisfied, skipping upgrade: qiskit-ibmq-provider==0.3.2 in /Users/parton/anaconda3/lib/python3.7/site-packages (from qiskit) (0.3.2)\n",
      "Requirement already satisfied, skipping upgrade: qiskit-terra==0.9.0 in /Users/parton/anaconda3/lib/python3.7/site-packages (from qiskit) (0.9.0)\n",
      "Requirement already satisfied, skipping upgrade: qiskit-aqua==0.6.0 in /Users/parton/anaconda3/lib/python3.7/site-packages (from qiskit) (0.6.0)\n",
      "Requirement already satisfied, skipping upgrade: qiskit-aer==0.3.0 in /Users/parton/anaconda3/lib/python3.7/site-packages (from qiskit) (0.3.0)\n",
      "Requirement already satisfied, skipping upgrade: qiskit-ignis==0.2.0 in /Users/parton/anaconda3/lib/python3.7/site-packages (from qiskit) (0.2.0)\n",
      "Requirement already satisfied, skipping upgrade: nest-asyncio==1.0.0 in /Users/parton/anaconda3/lib/python3.7/site-packages (from qiskit-ibmq-provider==0.3.2->qiskit) (1.0.0)\n",
      "Requirement already satisfied, skipping upgrade: requests>=2.19 in /Users/parton/anaconda3/lib/python3.7/site-packages (from qiskit-ibmq-provider==0.3.2->qiskit) (2.21.0)\n",
      "Requirement already satisfied, skipping upgrade: websockets<8,>=7 in /Users/parton/anaconda3/lib/python3.7/site-packages (from qiskit-ibmq-provider==0.3.2->qiskit) (7.0)\n",
      "Requirement already satisfied, skipping upgrade: requests-ntlm>=1.1.0 in /Users/parton/anaconda3/lib/python3.7/site-packages (from qiskit-ibmq-provider==0.3.2->qiskit) (1.1.0)\n",
      "Requirement already satisfied, skipping upgrade: numpy>=1.13 in /Users/parton/anaconda3/lib/python3.7/site-packages (from qiskit-terra==0.9.0->qiskit) (1.15.4)\n",
      "Requirement already satisfied, skipping upgrade: marshmallow-polyfield<4,>=3.2 in /Users/parton/anaconda3/lib/python3.7/site-packages (from qiskit-terra==0.9.0->qiskit) (3.2)\n",
      "Requirement already satisfied, skipping upgrade: sympy>=1.3 in /Users/parton/anaconda3/lib/python3.7/site-packages (from qiskit-terra==0.9.0->qiskit) (1.3)\n",
      "Requirement already satisfied, skipping upgrade: networkx>=2.2 in /Users/parton/anaconda3/lib/python3.7/site-packages (from qiskit-terra==0.9.0->qiskit) (2.2)\n",
      "Requirement already satisfied, skipping upgrade: ply>=3.10 in /Users/parton/anaconda3/lib/python3.7/site-packages (from qiskit-terra==0.9.0->qiskit) (3.11)\n",
      "Requirement already satisfied, skipping upgrade: marshmallow<3,>=2.17.0 in /Users/parton/anaconda3/lib/python3.7/site-packages (from qiskit-terra==0.9.0->qiskit) (2.19.2)\n",
      "Requirement already satisfied, skipping upgrade: jsonschema<2.7,>=2.6 in /Users/parton/anaconda3/lib/python3.7/site-packages (from qiskit-terra==0.9.0->qiskit) (2.6.0)\n",
      "Requirement already satisfied, skipping upgrade: scipy>=1.0 in /Users/parton/anaconda3/lib/python3.7/site-packages (from qiskit-terra==0.9.0->qiskit) (1.2.0)\n",
      "Requirement already satisfied, skipping upgrade: psutil>=5 in /Users/parton/anaconda3/lib/python3.7/site-packages (from qiskit-terra==0.9.0->qiskit) (5.4.8)\n",
      "Requirement already satisfied, skipping upgrade: h5py in /Users/parton/anaconda3/lib/python3.7/site-packages (from qiskit-aqua==0.6.0->qiskit) (2.8.0)\n",
      "Requirement already satisfied, skipping upgrade: pyscf; sys_platform != \"win32\" in /Users/parton/anaconda3/lib/python3.7/site-packages (from qiskit-aqua==0.6.0->qiskit) (1.6.1.post1)\n",
      "Requirement already satisfied, skipping upgrade: cvxopt in /Users/parton/anaconda3/lib/python3.7/site-packages (from qiskit-aqua==0.6.0->qiskit) (1.2.3)\n",
      "Requirement already satisfied, skipping upgrade: quandl in /Users/parton/anaconda3/lib/python3.7/site-packages (from qiskit-aqua==0.6.0->qiskit) (3.4.8)\n",
      "Requirement already satisfied, skipping upgrade: setuptools>=40.1.0 in /Users/parton/anaconda3/lib/python3.7/site-packages (from qiskit-aqua==0.6.0->qiskit) (41.0.0)\n",
      "Requirement already satisfied, skipping upgrade: dlx in /Users/parton/anaconda3/lib/python3.7/site-packages (from qiskit-aqua==0.6.0->qiskit) (1.0.4)\n",
      "Requirement already satisfied, skipping upgrade: fastdtw in /Users/parton/anaconda3/lib/python3.7/site-packages (from qiskit-aqua==0.6.0->qiskit) (0.3.2)\n",
      "Requirement already satisfied, skipping upgrade: docplex in /Users/parton/anaconda3/lib/python3.7/site-packages (from qiskit-aqua==0.6.0->qiskit) (2.9.141)\n",
      "Requirement already satisfied, skipping upgrade: scikit-learn>=0.20.0 in /Users/parton/anaconda3/lib/python3.7/site-packages (from qiskit-aqua==0.6.0->qiskit) (0.20.0)\n",
      "Requirement already satisfied, skipping upgrade: certifi>=2017.4.17 in /Users/parton/anaconda3/lib/python3.7/site-packages (from requests>=2.19->qiskit-ibmq-provider==0.3.2->qiskit) (2019.3.9)\n",
      "Requirement already satisfied, skipping upgrade: urllib3<1.25,>=1.21.1 in /Users/parton/anaconda3/lib/python3.7/site-packages (from requests>=2.19->qiskit-ibmq-provider==0.3.2->qiskit) (1.24.1)\n",
      "Requirement already satisfied, skipping upgrade: chardet<3.1.0,>=3.0.2 in /Users/parton/anaconda3/lib/python3.7/site-packages (from requests>=2.19->qiskit-ibmq-provider==0.3.2->qiskit) (3.0.4)\n",
      "Requirement already satisfied, skipping upgrade: idna<2.9,>=2.5 in /Users/parton/anaconda3/lib/python3.7/site-packages (from requests>=2.19->qiskit-ibmq-provider==0.3.2->qiskit) (2.8)\n",
      "Requirement already satisfied, skipping upgrade: cryptography>=1.3 in /Users/parton/anaconda3/lib/python3.7/site-packages (from requests-ntlm>=1.1.0->qiskit-ibmq-provider==0.3.2->qiskit) (2.6.1)\n",
      "Requirement already satisfied, skipping upgrade: ntlm-auth>=1.0.2 in /Users/parton/anaconda3/lib/python3.7/site-packages (from requests-ntlm>=1.1.0->qiskit-ibmq-provider==0.3.2->qiskit) (1.2.0)\n",
      "Requirement already satisfied, skipping upgrade: mpmath>=0.19 in /Users/parton/anaconda3/lib/python3.7/site-packages (from sympy>=1.3->qiskit-terra==0.9.0->qiskit) (1.1.0)\n",
      "Requirement already satisfied, skipping upgrade: decorator>=4.3.0 in /Users/parton/anaconda3/lib/python3.7/site-packages (from networkx>=2.2->qiskit-terra==0.9.0->qiskit) (4.3.0)\n",
      "Requirement already satisfied, skipping upgrade: six in /Users/parton/anaconda3/lib/python3.7/site-packages (from h5py->qiskit-aqua==0.6.0->qiskit) (1.12.0)\n",
      "Requirement already satisfied, skipping upgrade: pyasn1 in /Users/parton/anaconda3/lib/python3.7/site-packages (from quandl->qiskit-aqua==0.6.0->qiskit) (0.4.4)\n",
      "Requirement already satisfied, skipping upgrade: more-itertools<=5.0.0 in /Users/parton/anaconda3/lib/python3.7/site-packages (from quandl->qiskit-aqua==0.6.0->qiskit) (4.3.0)\n",
      "Requirement already satisfied, skipping upgrade: ndg-httpsclient in /Users/parton/anaconda3/lib/python3.7/site-packages (from quandl->qiskit-aqua==0.6.0->qiskit) (0.5.1)\n",
      "Requirement already satisfied, skipping upgrade: python-dateutil in /Users/parton/anaconda3/lib/python3.7/site-packages (from quandl->qiskit-aqua==0.6.0->qiskit) (2.7.3)\n",
      "Requirement already satisfied, skipping upgrade: pandas>=0.14 in /Users/parton/anaconda3/lib/python3.7/site-packages (from quandl->qiskit-aqua==0.6.0->qiskit) (0.23.4)\n",
      "Requirement already satisfied, skipping upgrade: inflection>=0.3.1 in /Users/parton/anaconda3/lib/python3.7/site-packages (from quandl->qiskit-aqua==0.6.0->qiskit) (0.3.1)\n",
      "Requirement already satisfied, skipping upgrade: pyOpenSSL in /Users/parton/anaconda3/lib/python3.7/site-packages (from quandl->qiskit-aqua==0.6.0->qiskit) (18.0.0)\n",
      "Requirement already satisfied, skipping upgrade: docloud>=1.0.315 in /Users/parton/anaconda3/lib/python3.7/site-packages (from docplex->qiskit-aqua==0.6.0->qiskit) (1.0.369)\n",
      "Requirement already satisfied, skipping upgrade: asn1crypto>=0.21.0 in /Users/parton/anaconda3/lib/python3.7/site-packages (from cryptography>=1.3->requests-ntlm>=1.1.0->qiskit-ibmq-provider==0.3.2->qiskit) (0.24.0)\n",
      "Requirement already satisfied, skipping upgrade: cffi!=1.11.3,>=1.8 in /Users/parton/anaconda3/lib/python3.7/site-packages (from cryptography>=1.3->requests-ntlm>=1.1.0->qiskit-ibmq-provider==0.3.2->qiskit) (1.11.5)\n",
      "Requirement already satisfied, skipping upgrade: pytz>=2011k in /Users/parton/anaconda3/lib/python3.7/site-packages (from pandas>=0.14->quandl->qiskit-aqua==0.6.0->qiskit) (2018.5)\n",
      "Requirement already satisfied, skipping upgrade: pycparser in /Users/parton/anaconda3/lib/python3.7/site-packages (from cffi!=1.11.3,>=1.8->cryptography>=1.3->requests-ntlm>=1.1.0->qiskit-ibmq-provider==0.3.2->qiskit) (2.19)\n"
     ]
    }
   ],
   "source": [
    "!pip install -U qiskit"
   ]
  },
  {
   "cell_type": "code",
   "execution_count": null,
   "metadata": {},
   "outputs": [],
   "source": []
  }
 ],
 "metadata": {
  "kernelspec": {
   "display_name": "Python 3",
   "language": "python",
   "name": "python3"
  },
  "language_info": {
   "codemirror_mode": {
    "name": "ipython",
    "version": 3
   },
   "file_extension": ".py",
   "mimetype": "text/x-python",
   "name": "python",
   "nbconvert_exporter": "python",
   "pygments_lexer": "ipython3",
   "version": "3.7.2"
  }
 },
 "nbformat": 4,
 "nbformat_minor": 2
}
